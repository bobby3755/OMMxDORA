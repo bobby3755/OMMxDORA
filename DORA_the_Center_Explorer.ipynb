{
 "cells": [
  {
   "cell_type": "markdown",
   "metadata": {},
   "source": [
    "# DORA the Center Explorer\n",
    "this function takes a FOLDER of .csv files that are ALREADY SECTIONED trajectories \n",
    "and outputs a inner folder and .csv of all the .csv's that pass the filter\n",
    "\n",
    "To run this code you will need all the code to run DORA AND the shutil package! "
   ]
  },
  {
   "cell_type": "code",
   "execution_count": 1,
   "metadata": {},
   "outputs": [],
   "source": [
    "import sys\n",
    "\n",
    "sys.path.append(r'C:\\Users\\jerry\\Desktop\\Research\\Kosuri\\Rotor_Data_Interpretation\\Jerry_Time_to_shine\\DORA_Visualization-main\\OMMxDORA-main\\OMMxDORA-main\\sma') #if you are not amanda, change to your sma file path (found in zipfile downloaded from github)\n",
    "\n",
    "\n",
    "import DORA\n",
    "# import numpy as np\n",
    "# import pandas as pd\n",
    "# import plotly.graph_objects as go\n",
    "# import matplotlib.pyplot as plt\n",
    "# import matplotlib.cm as cm\n",
    "# import os\n",
    "# import itertools\n"
   ]
  },
  {
   "cell_type": "code",
   "execution_count": 2,
   "metadata": {},
   "outputs": [],
   "source": [
    "#universal parameters\n",
    "#get the name of your folder as a string and put r in front \n",
    "folder_name = r\"C:\\Users\\jerry\\Desktop\\Research\\Kosuri\\Rotor_Data_Interpretation\\Jerry_Time_to_shine\\DORA_Visualization-main\\DORA_Visualization_Testing_3.31.2022\\trajectory_bucket\\26_laser_bucket\"\n",
    "# file_name = \"26_laser_10_glycerol_00016.csv\"\n",
    "pixel_size = 154  # in nanometers (or nm per pixel or nm/px )\n",
    "time_step = 20  # miliseconds per frame in trajectory movie\n",
    "frame_start = 0  # enter 0 to start from beginning of dataset\n",
    "frame_end = -1  # enter -1 to end at the last value of the data set\n",
    "cmap = \"spring\" # enter a color map string from this https://matplotlib.org/2.0.2/examples/color/colormaps_reference.html\n",
    "exp_tag = \"Laser_26\" # a tag that caries the name of the experiment\n",
    "first_zero_end = 'no'  # yes to cut off all values after first 0,0 = x,y\n",
    "graph_centers = \"no\" #'yes' or 'no' to graphing the centers of the data. \n",
    "save_plot = 'yes' \n",
    "\n",
    "## Center filtering parameters\n",
    "my_rad = [40,120] #min and max radius for the Rotor based off what we we know about the rotor\n",
    "\n",
    "\n"
   ]
  },
  {
   "cell_type": "code",
   "execution_count": 3,
   "metadata": {},
   "outputs": [
    {
     "name": "stdout",
     "output_type": "stream",
     "text": [
      "I have stored the radius of 26_laser_10_ glycerol_00016.csv\n",
      "I have stored the radius of 26_laser_10_ glycerol_00068.csv\n",
      "I have stored the radius of 26_laser_10_ glycerol_00269.csv\n",
      "I have stored the radius of 26_laser_10_ glycerol_00282.csv\n",
      "I have stored the radius of 26_laser_30_ glycerol_00006.csv\n",
      "I have stored the radius of 26_laser_30_ glycerol_00034.csv\n",
      "I have stored the radius of 26_laser_30_ glycerol_00069.csv\n",
      "I have stored the radius of 26_laser_50_ glycerol_00010.csv\n",
      "I have stored the radius of 26_laser_50_ glycerol_00034.csv\n",
      "Directory  CSVs_that_PASS  already exists\n",
      "I have saved which folders have passed as datatable Which_Peaks_Passed.csv \n",
      "I have moved 26_laser_10_ glycerol_00016.csv to CSVs_that_PASS\n",
      "I have moved 26_laser_10_ glycerol_00068.csv to CSVs_that_PASS\n",
      "I have moved 26_laser_30_ glycerol_00006.csv to CSVs_that_PASS\n",
      "I have moved 26_laser_50_ glycerol_00010.csv to CSVs_that_PASS\n"
     ]
    }
   ],
   "source": [
    "outter_parameters = [folder_name, pixel_size, time_step, frame_start, frame_end, cmap, exp_tag, first_zero_end, my_rad, graph_centers, save_plot]\n",
    "passing_files, Center_Checkpoint = DORA.filter_centers(*outter_parameters)\n"
   ]
  },
  {
   "cell_type": "code",
   "execution_count": 6,
   "metadata": {},
   "outputs": [
    {
     "data": {
      "text/html": [
       "<div>\n",
       "<style scoped>\n",
       "    .dataframe tbody tr th:only-of-type {\n",
       "        vertical-align: middle;\n",
       "    }\n",
       "\n",
       "    .dataframe tbody tr th {\n",
       "        vertical-align: top;\n",
       "    }\n",
       "\n",
       "    .dataframe thead th {\n",
       "        text-align: right;\n",
       "    }\n",
       "</style>\n",
       "<table border=\"1\" class=\"dataframe\">\n",
       "  <thead>\n",
       "    <tr style=\"text-align: right;\">\n",
       "      <th></th>\n",
       "      <th>File Name</th>\n",
       "      <th>Radius (pixels)</th>\n",
       "      <th>Radius (nm)</th>\n",
       "      <th>Passes Claire's Centering Algorithm</th>\n",
       "    </tr>\n",
       "  </thead>\n",
       "  <tbody>\n",
       "    <tr>\n",
       "      <th>0</th>\n",
       "      <td>26_laser_10_ glycerol_00016.csv</td>\n",
       "      <td>0.263674</td>\n",
       "      <td>40.605856</td>\n",
       "      <td>True</td>\n",
       "    </tr>\n",
       "    <tr>\n",
       "      <th>1</th>\n",
       "      <td>26_laser_10_ glycerol_00068.csv</td>\n",
       "      <td>0.268876</td>\n",
       "      <td>41.406859</td>\n",
       "      <td>True</td>\n",
       "    </tr>\n",
       "    <tr>\n",
       "      <th>2</th>\n",
       "      <td>26_laser_10_ glycerol_00269.csv</td>\n",
       "      <td>1.234367</td>\n",
       "      <td>190.092522</td>\n",
       "      <td>False</td>\n",
       "    </tr>\n",
       "    <tr>\n",
       "      <th>3</th>\n",
       "      <td>26_laser_10_ glycerol_00282.csv</td>\n",
       "      <td>3.547421</td>\n",
       "      <td>546.302817</td>\n",
       "      <td>False</td>\n",
       "    </tr>\n",
       "    <tr>\n",
       "      <th>4</th>\n",
       "      <td>26_laser_30_ glycerol_00006.csv</td>\n",
       "      <td>0.286949</td>\n",
       "      <td>44.190102</td>\n",
       "      <td>True</td>\n",
       "    </tr>\n",
       "    <tr>\n",
       "      <th>5</th>\n",
       "      <td>26_laser_30_ glycerol_00034.csv</td>\n",
       "      <td>0.185450</td>\n",
       "      <td>28.559281</td>\n",
       "      <td>False</td>\n",
       "    </tr>\n",
       "    <tr>\n",
       "      <th>6</th>\n",
       "      <td>26_laser_30_ glycerol_00069.csv</td>\n",
       "      <td>0.211908</td>\n",
       "      <td>32.633838</td>\n",
       "      <td>False</td>\n",
       "    </tr>\n",
       "    <tr>\n",
       "      <th>7</th>\n",
       "      <td>26_laser_50_ glycerol_00010.csv</td>\n",
       "      <td>0.531401</td>\n",
       "      <td>81.835719</td>\n",
       "      <td>True</td>\n",
       "    </tr>\n",
       "    <tr>\n",
       "      <th>8</th>\n",
       "      <td>26_laser_50_ glycerol_00034.csv</td>\n",
       "      <td>0.180103</td>\n",
       "      <td>27.735844</td>\n",
       "      <td>False</td>\n",
       "    </tr>\n",
       "  </tbody>\n",
       "</table>\n",
       "</div>"
      ],
      "text/plain": [
       "                         File Name  Radius (pixels)  Radius (nm)  \\\n",
       "0  26_laser_10_ glycerol_00016.csv         0.263674    40.605856   \n",
       "1  26_laser_10_ glycerol_00068.csv         0.268876    41.406859   \n",
       "2  26_laser_10_ glycerol_00269.csv         1.234367   190.092522   \n",
       "3  26_laser_10_ glycerol_00282.csv         3.547421   546.302817   \n",
       "4  26_laser_30_ glycerol_00006.csv         0.286949    44.190102   \n",
       "5  26_laser_30_ glycerol_00034.csv         0.185450    28.559281   \n",
       "6  26_laser_30_ glycerol_00069.csv         0.211908    32.633838   \n",
       "7  26_laser_50_ glycerol_00010.csv         0.531401    81.835719   \n",
       "8  26_laser_50_ glycerol_00034.csv         0.180103    27.735844   \n",
       "\n",
       "   Passes Claire's Centering Algorithm  \n",
       "0                                 True  \n",
       "1                                 True  \n",
       "2                                False  \n",
       "3                                False  \n",
       "4                                 True  \n",
       "5                                False  \n",
       "6                                False  \n",
       "7                                 True  \n",
       "8                                False  "
      ]
     },
     "execution_count": 6,
     "metadata": {},
     "output_type": "execute_result"
    }
   ],
   "source": [
    "Center_Checkpoint"
   ]
  },
  {
   "cell_type": "code",
   "execution_count": 5,
   "metadata": {},
   "outputs": [],
   "source": []
  },
  {
   "cell_type": "code",
   "execution_count": null,
   "metadata": {},
   "outputs": [],
   "source": []
  }
 ],
 "metadata": {
  "interpreter": {
   "hash": "f32be7cef2349a7aa3a592f4d86530b9704431b75bf5483879d89121ec9f0c30"
  },
  "kernelspec": {
   "display_name": "Python 3.9.7 ('base')",
   "language": "python",
   "name": "python3"
  },
  "language_info": {
   "codemirror_mode": {
    "name": "ipython",
    "version": 3
   },
   "file_extension": ".py",
   "mimetype": "text/x-python",
   "name": "python",
   "nbconvert_exporter": "python",
   "pygments_lexer": "ipython3",
   "version": "3.9.7"
  },
  "orig_nbformat": 4
 },
 "nbformat": 4,
 "nbformat_minor": 2
}
